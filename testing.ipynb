{
 "cells": [
  {
   "cell_type": "code",
   "execution_count": 7,
   "metadata": {},
   "outputs": [],
   "source": [
    "import os \n",
    "import json\n",
    "import cv2 as cv\n",
    "import numpy as np\n",
    "import matplotlib.pyplot as plt"
   ]
  },
  {
   "cell_type": "code",
   "execution_count": 8,
   "metadata": {},
   "outputs": [],
   "source": [
    "fily = json.load(open('testing.json'))"
   ]
  },
  {
   "cell_type": "code",
   "execution_count": 9,
   "metadata": {},
   "outputs": [],
   "source": [
    "def vid_gen(fily: dict) -> dict:\n",
    "    \"\"\"generates a dict where {key: value} is {vid: filename}\"\"\"\n",
    "    vid = {}\n",
    "    for key, value in fily['file'].items():\n",
    "        vid[key] = value['fname']\n",
    "    return vid\n",
    "\n",
    "def vid_tr_gen(vid: dict) -> dict:\n",
    "    \"\"\"generates a dict where {key: value} is {filename: vid}\"\"\"\n",
    "    vid_tran = {}\n",
    "    for key, value in vid.items():\n",
    "        vid_tran[value] = key\n",
    "    return vid_tran\n",
    "def label_gen(vid: dict, fily: dict)-> dict:\n",
    "    \"\"\"generates a dict where {key: value} is {vid: [list of label names]}\"\"\"\n",
    "    labels = {}\n",
    "    for key, value in vid.items():\n",
    "        labels[key] = []\n",
    "    for key, value in fily['metadata'].items():\n",
    "        if len(fily['metadata'][key]['xy']) != 0:\n",
    "            labels[value['vid']] += [key]\n",
    "    return labels\n",
    "\n",
    "vid = vid_gen(fily)\n",
    "vid_tran = vid_tr_gen(vid)\n",
    "labels = label_gen(vid, fily)"
   ]
  },
  {
   "cell_type": "code",
   "execution_count": 10,
   "metadata": {},
   "outputs": [
    {
     "data": {
      "text/plain": [
       "{'1': '2.jpg',\n",
       " '2': '46.jpg',\n",
       " '3': '70.jpg',\n",
       " '4': '74.jpg',\n",
       " '5': '139.jpg',\n",
       " '6': '169.jpg',\n",
       " '7': '202.jpg',\n",
       " '8': '230.jpg',\n",
       " '9': '276.jpg',\n",
       " '10': '369.jpg'}"
      ]
     },
     "execution_count": 10,
     "metadata": {},
     "output_type": "execute_result"
    }
   ],
   "source": [
    "vid"
   ]
  },
  {
   "cell_type": "code",
   "execution_count": 11,
   "metadata": {},
   "outputs": [
    {
     "data": {
      "text/plain": [
       "{'1': ['3_yLqmtfJd',\n",
       "  '3_X5AysGcg',\n",
       "  '3_9k2ozjGZ',\n",
       "  '3_klNseqZC',\n",
       "  '3_A03YRxB8',\n",
       "  '3_MSApcdgw',\n",
       "  '3_8hVyCF6K',\n",
       "  '3_JTKTXXWG',\n",
       "  '3_h0Bld1Jk',\n",
       "  '3_mBoNGOGp',\n",
       "  '3_XmMOJyze',\n",
       "  '3_jZc7Tyt6',\n",
       "  '3_fOH5ItSi',\n",
       "  '3_X3wrVsW4',\n",
       "  '3_lJSNkiAa',\n",
       "  '3_JVdReZIt',\n",
       "  '3_2zJSjirL',\n",
       "  '3_MWs75hGu',\n",
       "  '3_1OCI2kte',\n",
       "  '3_lQ49COZW',\n",
       "  '3_J2bXuxdj'],\n",
       " '2': ['47_eCSEvO4K',\n",
       "  '47_NucOowmW',\n",
       "  '47_8JLX6EOE',\n",
       "  '47_g7EFYgIp',\n",
       "  '47_N45CLXMy',\n",
       "  '47_UsIrVFKb',\n",
       "  '47_jjvgs9BR',\n",
       "  '47_IXNZWVMY',\n",
       "  '47_8i9FhQkr',\n",
       "  '47_7mdxmKSJ',\n",
       "  '47_vSO9UM59',\n",
       "  '47_pielBL35',\n",
       "  '47_wayUBMYX',\n",
       "  '47_ndb0DQnr',\n",
       "  '47_gOmCtTrK',\n",
       "  '47_1NRUSfU6',\n",
       "  '47_L2W3ZNEX'],\n",
       " '3': ['71_8TCEh9zs', '71_z9V94uqd', '71_m9s2nGcu', '71_PZRCqzhb'],\n",
       " '4': ['75_92NG4rxZ', '75_KwAnMnni', '75_DQ2CppYh'],\n",
       " '5': ['140_TlTOJijp'],\n",
       " '6': ['170_5tlzmhRZ'],\n",
       " '7': ['203_bg9zHYDn',\n",
       "  '203_WuVNlLFX',\n",
       "  '203_13wtSZTB',\n",
       "  '203_enNvBxq1',\n",
       "  '203_5XzyldqF',\n",
       "  '203_kDpcbpJB',\n",
       "  '203_Wu1DXPfD',\n",
       "  '203_zwEdPWfG',\n",
       "  '203_scaZbtX0',\n",
       "  '203_DBcJG1xd',\n",
       "  '203_ydfSvomN',\n",
       "  '203_mtzdOV0w',\n",
       "  '203_ppe7FPcs',\n",
       "  '203_IxfGrvtC',\n",
       "  '203_FQOdXO64',\n",
       "  '203_Ut1ZiXpd',\n",
       "  '203_rQ8jg7uE',\n",
       "  '203_PpVgRpnJ',\n",
       "  '203_X7tXvzfJ'],\n",
       " '8': ['231_akPmNWEP', '231_kEykuQwI'],\n",
       " '9': ['277_cEy8Jwi1', '277_fG0FlQrx', '277_XfBRi684'],\n",
       " '10': ['370_Dthg7PEG',\n",
       "  '370_hvx5HjIz',\n",
       "  '370_mL8UPTqf',\n",
       "  '370_PEzREiKA',\n",
       "  '370_lpYGaE1d',\n",
       "  '370_V7UXYjmY',\n",
       "  '370_BriairXb',\n",
       "  '370_50QLzMhs']}"
      ]
     },
     "execution_count": 11,
     "metadata": {},
     "output_type": "execute_result"
    }
   ],
   "source": [
    "labels"
   ]
  },
  {
   "cell_type": "code",
   "execution_count": 12,
   "metadata": {},
   "outputs": [
    {
     "ename": "error",
     "evalue": "OpenCV(4.10.0) /io/opencv/modules/imgcodecs/src/loadsave.cpp:798: error: (-215:Assertion failed) !_img.empty() in function 'imwrite'\n",
     "output_type": "error",
     "traceback": [
      "\u001b[0;31m---------------------------------------------------------------------------\u001b[0m",
      "\u001b[0;31merror\u001b[0m                                     Traceback (most recent call last)",
      "Cell \u001b[0;32mIn[12], line 26\u001b[0m\n\u001b[1;32m     24\u001b[0m cv\u001b[38;5;241m.\u001b[39mdrawContours(mask, [contours], \u001b[38;5;241m-\u001b[39m\u001b[38;5;241m1\u001b[39m,\u001b[38;5;241m255\u001b[39m, \u001b[38;5;241m-\u001b[39m\u001b[38;5;241m1\u001b[39m)\n\u001b[1;32m     25\u001b[0m cv\u001b[38;5;241m.\u001b[39mimwrite(mask_dir \u001b[38;5;241m+\u001b[39m \u001b[38;5;124mf\u001b[39m\u001b[38;5;124m\"\u001b[39m\u001b[38;5;124m_\u001b[39m\u001b[38;5;132;01m{\u001b[39;00mk\u001b[38;5;132;01m}\u001b[39;00m\u001b[38;5;124m.jpg\u001b[39m\u001b[38;5;124m\"\u001b[39m, mask)\n\u001b[0;32m---> 26\u001b[0m \u001b[43mcv\u001b[49m\u001b[38;5;241;43m.\u001b[39;49m\u001b[43mimwrite\u001b[49m\u001b[43m(\u001b[49m\u001b[43mimg_dir\u001b[49m\u001b[43m \u001b[49m\u001b[38;5;241;43m+\u001b[39;49m\u001b[43m \u001b[49m\u001b[38;5;124;43mf\u001b[39;49m\u001b[38;5;124;43m\"\u001b[39;49m\u001b[38;5;124;43m_\u001b[39;49m\u001b[38;5;132;43;01m{\u001b[39;49;00m\u001b[43mk\u001b[49m\u001b[38;5;132;43;01m}\u001b[39;49;00m\u001b[38;5;124;43m.jpg\u001b[39;49m\u001b[38;5;124;43m\"\u001b[39;49m\u001b[43m,\u001b[49m\u001b[43m \u001b[49m\u001b[43mimg\u001b[49m\u001b[43m[\u001b[49m\u001b[43my_min\u001b[49m\u001b[43m:\u001b[49m\u001b[43my_max\u001b[49m\u001b[43m,\u001b[49m\u001b[43m \u001b[49m\u001b[43mx_min\u001b[49m\u001b[43m:\u001b[49m\u001b[43mx_max\u001b[49m\u001b[43m]\u001b[49m\u001b[43m)\u001b[49m\n",
      "\u001b[0;31merror\u001b[0m: OpenCV(4.10.0) /io/opencv/modules/imgcodecs/src/loadsave.cpp:798: error: (-215:Assertion failed) !_img.empty() in function 'imwrite'\n"
     ]
    }
   ],
   "source": [
    "for key, value in labels.items():\n",
    "    mask_dir = 'segmentation/masks/'+ f'{vid[key].split('.')[0]}'\n",
    "    img_dir = 'segmentation/samples/'+ f'{vid[key].split('.')[0]}'\n",
    "    img = cv.imread('images/'+f\"{vid[key]}\")\n",
    "    for k in range(len(value)):\n",
    "        label = value[k]\n",
    "        target = fily['metadata'][label]['xy']\n",
    "        contours = []\n",
    "        x_max = -1\n",
    "        y_max = -1\n",
    "        x_min = 5000\n",
    "        y_min = 5000\n",
    "        for i in range(1, len(target), 2):\n",
    "            x = target[i]\n",
    "            y = target[i+1]\n",
    "            x_max = max(x_max, x)\n",
    "            y_max = max(y_max, y)\n",
    "            x_min = min(x_min, x)\n",
    "            y_min = min(y_min, y)\n",
    "            contours.append([x, y])\n",
    "        contours = np.array(contours)\n",
    "        contours -= [x_min, y_min]\n",
    "        mask = np.zeros([y_max - y_min,x_max - x_min])\n",
    "        cv.drawContours(mask, [contours], -1,255, -1)\n",
    "        cv.imwrite(mask_dir + f\"_{k}.jpg\", mask)\n",
    "        cv.imwrite(img_dir + f\"_{k}.jpg\", img[y_min:y_max, x_min:x_max])"
   ]
  }
 ],
 "metadata": {
  "kernelspec": {
   "display_name": "amap",
   "language": "python",
   "name": "python3"
  },
  "language_info": {
   "codemirror_mode": {
    "name": "ipython",
    "version": 3
   },
   "file_extension": ".py",
   "mimetype": "text/x-python",
   "name": "python",
   "nbconvert_exporter": "python",
   "pygments_lexer": "ipython3",
   "version": "3.13.0"
  }
 },
 "nbformat": 4,
 "nbformat_minor": 2
}
