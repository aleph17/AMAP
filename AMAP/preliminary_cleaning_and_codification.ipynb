{
 "cells": [
  {
   "cell_type": "code",
   "execution_count": 15,
   "metadata": {},
   "outputs": [
    {
     "data": {
      "text/plain": [
       "['2023_05_10', '2023_05_11', '2023_09_06', '2023_11_29', '2024_03_11']"
      ]
     },
     "execution_count": 15,
     "metadata": {},
     "output_type": "execute_result"
    }
   ],
   "source": [
    "import os\n",
    "\n",
    "directory = r'C:\\Dataset - Copy'\n",
    "os.listdir(directory)"
   ]
  },
  {
   "cell_type": "code",
   "execution_count": 13,
   "metadata": {},
   "outputs": [
    {
     "name": "stdout",
     "output_type": "stream",
     "text": [
      "success\n"
     ]
    }
   ],
   "source": [
    "for filename in os.listdir(directory):\n",
    "    if filename != '2023_09_06':\n",
    "        inside = os.path.join(directory, filename)\n",
    "        for image in os.listdir(inside):\n",
    "            old_file = os.path.join(inside, image)\n",
    "            new_file = os.path.join(inside,f\"{filename +'_'}{image}\")\n",
    "            os.rename(old_file, new_file)\n",
    "print('success')"
   ]
  },
  {
   "cell_type": "markdown",
   "metadata": {},
   "source": [
    "### codifying"
   ]
  },
  {
   "cell_type": "code",
   "execution_count": 17,
   "metadata": {},
   "outputs": [
    {
     "name": "stdout",
     "output_type": "stream",
     "text": [
      "success\n"
     ]
    }
   ],
   "source": [
    "starter = 1000\n",
    "correspondence = {}\n",
    "for image in os.listdir(directory):\n",
    "    old_file = os.path.join(directory, image)\n",
    "    new_file = os.path.join(directory, f\"{str(starter)[1:]}\")\n",
    "    correspondence[str(starter)[1:]] = old_file\n",
    "    os.rename(old_file, new_file)\n",
    "    starter = starter + 1\n",
    "print(\"success\")"
   ]
  },
  {
   "cell_type": "code",
   "execution_count": 20,
   "metadata": {},
   "outputs": [
    {
     "name": "stdout",
     "output_type": "stream",
     "text": [
      "success\n"
     ]
    }
   ],
   "source": [
    "for image in os.listdir(directory):\n",
    "    old_file = os.path.join(directory, image)\n",
    "    new_file = os.path.join(directory, f\"{image}.tif\")\n",
    "    os.rename(old_file, new_file)\n",
    "print(\"success\")"
   ]
  },
  {
   "cell_type": "code",
   "execution_count": 22,
   "metadata": {},
   "outputs": [
    {
     "name": "stdout",
     "output_type": "stream",
     "text": [
      "done\n"
     ]
    }
   ],
   "source": [
    "import csv\n",
    "file = os.path.join(directory, 'output.csv')\n",
    "with open(file, 'w', newline='') as csvfile:\n",
    "    writer = csv.writer(csvfile)\n",
    "    # Write the header\n",
    "    writer.writerow(['Key', 'Value'])\n",
    "    # Write the data\n",
    "    for key, value in correspondence.items():\n",
    "        writer.writerow([key, value])\n",
    "print(\"done\")"
   ]
  },
  {
   "cell_type": "code",
   "execution_count": 23,
   "metadata": {},
   "outputs": [],
   "source": [
    "dict = correspondence.copy()"
   ]
  },
  {
   "cell_type": "code",
   "execution_count": 25,
   "metadata": {},
   "outputs": [],
   "source": [
    "for key,value in dict.items():\n",
    "    dict[key] = value[18:]"
   ]
  },
  {
   "cell_type": "code",
   "execution_count": 27,
   "metadata": {},
   "outputs": [
    {
     "name": "stdout",
     "output_type": "stream",
     "text": [
      "done\n"
     ]
    }
   ],
   "source": [
    "file = os.path.join(directory, 'correspondence.csv')\n",
    "with open(file, 'w', newline='') as csvfile:\n",
    "    writer = csv.writer(csvfile)\n",
    "    # Write the header\n",
    "    writer.writerow(['Key', 'Value'])\n",
    "    # Write the data\n",
    "    for key, value in dict.items():\n",
    "        writer.writerow([key, value])\n",
    "print(\"done\")"
   ]
  },
  {
   "cell_type": "markdown",
   "metadata": {},
   "source": [
    "the data has undergone preliminary cleaning. it has been codified with dictionary saving the correspondence of code with the original naming of the pictures."
   ]
  }
 ],
 "metadata": {
  "kernelspec": {
   "display_name": "base",
   "language": "python",
   "name": "python3"
  },
  "language_info": {
   "codemirror_mode": {
    "name": "ipython",
    "version": 3
   },
   "file_extension": ".py",
   "mimetype": "text/x-python",
   "name": "python",
   "nbconvert_exporter": "python",
   "pygments_lexer": "ipython3",
   "version": "3.11.7"
  }
 },
 "nbformat": 4,
 "nbformat_minor": 2
}
