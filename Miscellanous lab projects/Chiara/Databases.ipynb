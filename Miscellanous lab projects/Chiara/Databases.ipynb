{
 "cells": [
  {
   "cell_type": "markdown",
   "metadata": {
    "vscode": {
     "languageId": "sql"
    }
   },
   "source": [
    "# My own exam solutions"
   ]
  },
  {
   "cell_type": "code",
   "execution_count": null,
   "metadata": {
    "vscode": {
     "languageId": "sql"
    }
   },
   "outputs": [],
   "source": [
    "WITH Needed AS(\n",
    "    SELECT CID \n",
    "    FROM INTERNSHIP I1\n",
    "    WHERE StartDate >= 01/01/2020 AND EndDate <= 31/12/2024 AND EndDate IS NOT NULL\n",
    "    GROUP BY CID \n",
    "    HAVING SUM((EndDate-StartDate)*DailyWage) >\n",
    "                                            (SELECT SUM((EndDate-StarDate)*DailyWage) \n",
    "                                            FROM INTERNSHIP I2\n",
    "                                            WHERE StartDate >= 01/01/2016 AND EndDate <= 31/12/2019 AND EndDate IS NOT NULL \n",
    "                                                  AND I2.CID = I.CID\n",
    "                                            GROUP BY CID)\n",
    ")\n",
    "SELECT Description, Sector, Budget \n",
    "FROM PROJECT P, INTERNSHIP I \n",
    "WHERE P.ProjNo = I.ProjNo AND P.CID = I.CID AND CID IN Needed AND ((StartDate >= 01/01/2020 AND EndDate <= 31/12/2024) OR \n",
    "        (StartDate >= 01/01/2016 AND EndDate <= 31/12/2019)) AND EndDate IS NOT NULL\n",
    "GROUP BY P.ProjNo, P.CID, Description, Sector, Budget"
   ]
  },
  {
   "cell_type": "code",
   "execution_count": null,
   "metadata": {
    "vscode": {
     "languageId": "sql"
    }
   },
   "outputs": [],
   "source": [
    "WITH Needed AS(\n",
    "    SELECT CID \n",
    "    FROM Internship\n",
    "    WHERE EndDate IS NULL\n",
    "    GROUP BY CID \n",
    "    HAVING COUNT(*) >9\n",
    ")\n",
    "SELECT Description, COUNT(*), AVG(Age), COUNT(DISTINCT Nationality)\n",
    "FROM PROJECT P, INTERNSHIP I, STUDENT S \n",
    "WHERE P.ProjNo = I.ProjNo AND I.CID = P.CID AND S.TaxID = I.TaxID AND P.Budget < 5000 AND CID IN Needed \n",
    "GROUP BY P.ProjNo, P.CID, Description "
   ]
  },
  {
   "cell_type": "code",
   "execution_count": null,
   "metadata": {
    "vscode": {
     "languageId": "sql"
    }
   },
   "outputs": [],
   "source": [
    "WITH Needed AS(\n",
    "    SELECT CID \n",
    "    FROM INTERNSHIP I\n",
    "    WHERE I.StarDate > 01/01/2022 AND I.EndDate < 31/12/2024 AND I.EndDate IS NOT NULL\n",
    "    AND I.EndDate IS NOT NULL\n",
    "    GROUP BY CID \n",
    "    HAVING AVG(I.EndDate - I.StartDate) > ( SELECT AVG(I.EndDate - I.StartDate)\n",
    "                                            FROM INTERNSHIP I2\n",
    "                                            WHERE I.CID = I2.CID AND I.StartDate >= 01/01/2018 AND I.EndDate <= 31/12/2020 AND I.EndDate IS NOT NULL   ---- careful with date >=\n",
    "                                            GROUP BY I2.CID)\n",
    ")\n",
    "SELECT Description, Sector, Budget\n",
    "FROM PROJECT P, INTERNSHIP I \n",
    "WHERE P.ProjNo = I.ProjNo AND P.CID = I.CID AND I.StartDate > 01/01/2018 AND I.EndDate < 31/12/2020 AND I.StarDate > 01/01/2022 AND I.EndDate < 31/12/2024\n",
    "    AND I.EndDate IS NOT NULL AND P.CID IN Needed\n",
    "GROUP BY P.ProjectNo, P.CID, Description, Sector, Budget;"
   ]
  },
  {
   "cell_type": "code",
   "execution_count": null,
   "metadata": {
    "vscode": {
     "languageId": "sql"
    }
   },
   "outputs": [],
   "source": [
    "WITH Needed AS (\n",
    "    SELECT I.CID \n",
    "    FROM STUDENT S, INTERNSHIP I\n",
    "    WHERE I.TaxID = S.TaxID AND S.Nationality <> 'Italian'\n",
    "    GROUP BY I.CID \n",
    "    HAVING COUNT(DISTINCT ProjNo) > 9\n",
    ")\n",
    "SELECT P.Description, COUNT(*) AS NoActive,SUM(EndDate - StartDate), MAX(Age), MIN(Age), COUNT(DISTINCT Nationality)\n",
    "FROM INTERNSHIP I, STUDENT S, PROJECT P\n",
    "WHERE EndDate IS NOT NULL AND I.CID IN Needed AND I.TaxID = S.TaxID AND P.ProjNo = I.ProjNo AND P.CID = I.CID            \n",
    "GROUP BY P.ProjNo, P.CID, P.Description  \n",
    "        -------- Whatever in SELECT must appear in GROUP BY eventhough you don't need to group by it\n",
    "        ---- Careful with dates"
   ]
  },
  {
   "cell_type": "code",
   "execution_count": null,
   "metadata": {
    "vscode": {
     "languageId": "sql"
    }
   },
   "outputs": [],
   "source": [
    "WITH Needed AS(\n",
    "    SELECT CID \n",
    "    FROM COMPANY C, INTERNSHIP I\n",
    "    WHERE C.CID = I.CID AND I.StartDate > 01/01/2023 AND I.EndDate < 31/12/2023\n",
    ")\n",
    "SELECT C.City, COUNT(*), AVG(DailWage) --------------------   COUNT(*) counts all\n",
    "FROM COMPANY C, INTERNSHIP I\n",
    "WHERE C.CID = I.CID AND C.CID NOT IN Needed\n",
    "GROUP BY C.City;"
   ]
  },
  {
   "cell_type": "code",
   "execution_count": null,
   "metadata": {
    "vscode": {
     "languageId": "sql"
    }
   },
   "outputs": [],
   "source": [
    "CREATE TRIGGER MANAGE_Booking\n",
    "AFTER INSERT ON BOOKING\n",
    "FOR EACH ROW \n",
    "DECLARE                                          ------------ DECLARE not DEFINE\n",
    "plateNum VARCHAR(15);\n",
    "cost NUMBER;                                          ----------------not INT  but NUMBER\n",
    "BEGIN\n",
    "WITH Available AS(\n",
    "    SELECT LicensePlate, CostPerDay\n",
    "    FROM VEHICLE V, VEHICLE_AVAILABILITY VA \n",
    "    WHERE V.LicensePlate = VA.LicensePlate AND :NEW.Category = V.Category AND :NEW.NoSeat = V.NoSeats AND Date>=:NEW.StartDate AND Date<=:NEW.EndDate\n",
    "            AND Status = 1\n",
    "    GROUP BY LicensePlate, CostPerDay\n",
    "    HAVING COUNT(*)= :NEW.StartDate - :NEW.EndDate+1\n",
    ")\n",
    "SELECT LicensePlate, CostPerDay INTO plateNum, cost\n",
    "FROM Available A1\n",
    "WHERE CostPerDay = (SELECT MIN(CostPerDay)\n",
    "                    FROM Available A2)\n",
    "IF (plateNum IS NULL) THEN                          --------------------  IF (______) THEN\n",
    "RAISE_APPLICATION_ERROR(-20500, 'not found');\n",
    "ELSE\n",
    "UPDATE VEHICLE_AVAILABILITY\n",
    "SET Status = 0\n",
    "WHERE Date>= :NEW.StarDate AND Date <= :NEW.EndDate AND LicensePlate = plateNum;\n",
    "\n",
    "UPDATE VEHICLE\n",
    "SET NumRentals = NumRentals + 1\n",
    "WHERE LicensePlate = plateNum;                     ---------------------  after every complete action put    ;\n",
    "\n",
    "INSERT INTO NOTIFICATION\n",
    "VALUES(:NEW.TaxID, :NEW.StartDate, plateNum, (:New.EndDate - :NEW.StartDate+1)*cost);\n",
    "END IF;\n",
    "END;\n",
    "   --------------- child attributes are merged as optional\n"
   ]
  },
  {
   "cell_type": "markdown",
   "metadata": {},
   "source": [
    "## 24/05/27"
   ]
  },
  {
   "cell_type": "code",
   "execution_count": null,
   "metadata": {
    "vscode": {
     "languageId": "sql"
    }
   },
   "outputs": [],
   "source": [
    "WITH Needed AS(\n",
    "    SELECT WID \n",
    "    FROM VEHICLE V, INSPECTION I \n",
    "    WHERE V.FuellingType = 'LPG-fueled' AND V.RegistrationYear <2015 AND \n",
    "        AND V.LicensePlate# = I.LicensePlate#; \n",
    ")\n",
    "SELECT Name, Address \n",
    "FROM WORKSHOP W \n",
    "WHERE W.CIty = 'Turin' AND W.WID NOT IN Needed;"
   ]
  },
  {
   "cell_type": "code",
   "execution_count": null,
   "metadata": {
    "vscode": {
     "languageId": "sql"
    }
   },
   "outputs": [],
   "source": [
    "WITH Needed AS(\n",
    "    SELECT SSN \n",
    "    FROM VEHICLE V1\n",
    "    WHERE RegistrationYear > 01/01/2010\n",
    "    GROUP BY SSN \n",
    "    HAVING COUNT(*)>=2;\n",
    ")\n",
    "SELECT C.LastName,V.LicensePlate#, V.Maker, COUNT(*), AVG(I.Cost), COUNT(DISTINCT I.WID)\n",
    "FROM CUSTOMER C, VEHICLE V, INSPECTION I \n",
    "WHERE C.SSN = V.SSN AND I.LicensePlate# = V.LicensePlate# AND BirthDate >01/01/1980 AND V.SSN IN Needed\n",
    "GROUP BY C.SSN, C.LastName, v.LicensePlate#, V.Maker;"
   ]
  },
  {
   "cell_type": "code",
   "execution_count": null,
   "metadata": {
    "vscode": {
     "languageId": "sql"
    }
   },
   "outputs": [],
   "source": [
    "WITH Needed AS(\n",
    "    SELECT I.WID, W.City, COUNT(*) AS NoInspections , COUNT(DISTINCT Model) AS NoModels, SUM(Cost) AS Total\n",
    "    FROM INSPECTION I, VEHICLE V, CUSTOMER C, WORKSHOP W \n",
    "    WHERE C.BirthDate >= 01/01/1970 AND C.BirhtDate <01/01/1981 AND\n",
    "        I.LicensePlate# = V.LicensePlate# AND C.SSN = V.SSN \n",
    "        W.WID = I.WID\n",
    "    GROUP BY I.WID, W.City \n",
    "    HAVING COUNT(DISTINCT I.LicensePlate#) >=200;\n",
    ")\n",
    "SELECT Name, Address, NoInspections, NoModels, Total\n",
    "FROM WORKSHOP W, Needed N1\n",
    "WHERE W.WID = N1.WID AND N1.NoInspections =(SELECT MAX(NoInspections)\n",
    "                                            FROM Needed N2\n",
    "                                            WHERE N1.City = N2.City)"
   ]
  },
  {
   "cell_type": "markdown",
   "metadata": {},
   "source": [
    "## 2nd simulation"
   ]
  },
  {
   "cell_type": "code",
   "execution_count": null,
   "metadata": {
    "vscode": {
     "languageId": "sql"
    }
   },
   "outputs": [],
   "source": [
    "WITH NeededSize AS(\n",
    "    SELECT TeacherID \n",
    "    FROM MATERIAL_UPLOADED_BY_TEACHER M \n",
    "    WHERE Size < 10;\n",
    ")\n",
    "NeededType AS(\n",
    "    SELECT TeacherID \n",
    "    FROM MATERIAL_UPLOADED_BY_TEACHER M \n",
    "    WHERE Category <> 'Exercises'\n",
    ")                                     ----------- you can use OR in WHERE too\n",
    "SELECT Name, Surname \n",
    "FROM TEACHER T  \n",
    "WHERE T.Course = 'Analysis I'AND T.TeacherID NOT IN Needed AND T.TeacherID NOT IN NeededType;"
   ]
  },
  {
   "cell_type": "code",
   "execution_count": null,
   "metadata": {
    "vscode": {
     "languageId": "sql"
    }
   },
   "outputs": [],
   "source": [
    "WITH Needed AS(\n",
    "    SELECT TeacherID \n",
    "    FROM MATERIAL_UPLOADED_BY_TEACHER M, VISUALIZATIONS V \n",
    "    WHERE M.MatID = V.MatID AND M.Format = 'ZIP'\n",
    "    GROUP BY MatID, TeacherID \n",
    "    HAVING SUM(VisualizationsNum)> 100;\n",
    ")\n",
    "SELECT Course, Date, COUNT(DISTINCT TeacherID), SUM(Minutes) \n",
    "FROM TEACHER T, TEACHER_CONNECTIONS TC \n",
    "WHERE T.TeacherID = TC.TeacherID AND T.TeacherID IN Needed \n",
    "GROUP BY Course, Date;"
   ]
  },
  {
   "cell_type": "code",
   "execution_count": 1,
   "metadata": {
    "vscode": {
     "languageId": "sql"
    }
   },
   "outputs": [
    {
     "ename": "SyntaxError",
     "evalue": "invalid syntax (3971460451.py, line 1)",
     "output_type": "error",
     "traceback": [
      "\u001b[1;36m  Cell \u001b[1;32mIn[1], line 1\u001b[1;36m\u001b[0m\n\u001b[1;33m    WITH Needed AS()\u001b[0m\n\u001b[1;37m         ^\u001b[0m\n\u001b[1;31mSyntaxError\u001b[0m\u001b[1;31m:\u001b[0m invalid syntax\n"
     ]
    }
   ],
   "source": [
    "WITH Needed AS(\n",
    "    SELECT TeacherID \n",
    "    FROM TEACHER T, TEACHER_CONNECTIONS TC \n",
    "    WHERE T.TeacherID = TC.TeacherID\n",
    "    GROUP BY TeacherID, Course \n",
    "    HAVING AVG(Minutes) > (SELECT AVG(Minutes)\n",
    "                          FROM TEACHER_CONNECTIONS TC2, TEACHER T2 \n",
    "                          WHERE T2.TeacherID = TC2.TeacherID AND\n",
    "                                T.Course = T2.Course);\n",
    ")\n",
    "SELECT Category, COUNT(DISTINCT Format), MAX(Size)\n",
    "FROM DOCUMENTS_UPLOADED_BY_TEACHER D \n",
    "WHERE TeacherID IN Needed AND NumPages > (SELECT AVG(NumPages)\n",
    "                                          FROM DOCUMENTS_UPLOADED_BY_TEACHER D2 \n",
    "                                          WHERE D2.Category = D.Category)\n",
    "GROUP BY Category;"
   ]
  },
  {
   "cell_type": "markdown",
   "metadata": {},
   "source": [
    "## Simulation 1"
   ]
  },
  {
   "cell_type": "code",
   "execution_count": null,
   "metadata": {
    "vscode": {
     "languageId": "sql"
    }
   },
   "outputs": [],
   "source": [
    "WITH Needed AS(\n",
    "    SELECT CodM \n",
    "    FROM PLAYER P, YELLOW_CARDS Y\n",
    "    WHERE P.CodP = Y.CodP AND P.Role = 'Striker' \n",
    "    GROUP BY CodM\n",
    "    HAVING COUNT(*) > 3;\n",
    ")\n",
    "SELECT CodM, Date, COUNT(*)\n",
    "FROM MATCH M, GOAL G \n",
    "WHERE M.CodM = G.CodM AND CodM NOT IN Needed\n",
    "GROUP BY CodM, Date, CodP;"
   ]
  },
  {
   "cell_type": "code",
   "execution_count": null,
   "metadata": {
    "vscode": {
     "languageId": "sql"
    }
   },
   "outputs": [],
   "source": [
    "SELECT Name, Surname, Date \n",
    "FROM PLAYER P, MATCH M, GOAL G \n",
    "WHERE P.CodP = G.CodP AND M.CodM = G.CodM AND Nation = 'Paraguay'\n",
    "    AND Date = (SELECT MIN(Date)\n",
    "                FROM GOAL G2, MATCH M2\n",
    "                WHERE G2.CodM = M2.CodM AND G2.CodP = G.CodP);\n",
    "\n",
    "SELECT Name, Surname, MIN(Date) \n",
    "FROM PLAYER P, MATCH M, GOAL G \n",
    "WHERE P.CodP = G.CodP AND M.CodM = G.CodM AND Nation = 'Paraguay'\n",
    "GROUP BY CodP, Name, Surname;\n"
   ]
  },
  {
   "cell_type": "code",
   "execution_count": null,
   "metadata": {
    "vscode": {
     "languageId": "sql"
    }
   },
   "outputs": [],
   "source": [
    "SELECT Name, Surname, Nation \n",
    "FROM PLAYER P, GOAL G \n",
    "WHERE G.CodP = P.CodP AND MinutesIntoTheMatch > 10\n",
    "GROUP BY P.CodP, Name, Surname, Nation \n",
    "HAVING 5*COUNT(DISTINCT CodM)>= \n",
    "                  (SELECT COUNT(DISTINCT CodM)\n",
    "                   FROM GOAL G2, MATCH M\n",
    "                   WHERE G2.CodP = G.CodP\n",
    "                        G2.CodM = M.CodM AND M.Date >= 01/01/2020 AND M.Date < 01/01/2021)"
   ]
  },
  {
   "cell_type": "markdown",
   "metadata": {},
   "source": [
    "## Simulation 2"
   ]
  },
  {
   "cell_type": "code",
   "execution_count": null,
   "metadata": {
    "vscode": {
     "languageId": "sql"
    }
   },
   "outputs": [],
   "source": [
    "SELECT Name, SUM(Quantity) \n",
    "FROM TOY_BUILDING_SET T, ORDER_INLCUDE OI\n",
    "WHERE Category = 'Marvel'AND NumPieces >300 AND OI.SID = T.SID \n",
    "GROUP BY SID, Name \n",
    "HAVING COUNT(*) >= 50"
   ]
  },
  {
   "cell_type": "code",
   "execution_count": null,
   "metadata": {
    "vscode": {
     "languageId": "sql"
    }
   },
   "outputs": [],
   "source": [
    "WITH Needed AS(\n",
    "    SELECT TaxID\n",
    "    FROM ORDER O, ORDER_INCLUDE OI, TOY_BUILDING_SET T\n",
    "    WHERE O.OID = OI.OID AND T.SID = OI.SID AND Date >= 01/01/2022 \n",
    "            AND Date <= 31/12/2022\n",
    "    GROUP BY TaxID, O.OID \n",
    "    HAVING COUNT(DISTINCT Category) >3;\n",
    ")\n",
    "SELECT City, Date, COUNT(DISTINCT TaxID)\n",
    "FROM CUSTOMER C, ORDER O \n",
    "WHERE O.TaxID = C.TaxID AND O.TaxID NOT IN Needed AND \n",
    "        Date >= 01/01/2022 AND Date <= 31/12/2022 \n",
    "GROUP BY City, Date;"
   ]
  },
  {
   "cell_type": "code",
   "execution_count": null,
   "metadata": {
    "vscode": {
     "languageId": "sql"
    }
   },
   "outputs": [],
   "source": [
    "WITH Needed AS(\n",
    "    SELECT SID\n",
    "    FROM ORDER_INCLUDE OI1, ORDER O1 \n",
    "    WHERE O1.OID = OI1.OID AND Date>= 01/05/2023 AND Date <= 31/05/2023 \n",
    "    GROUP BY SID \n",
    "    HAVING SUM(Quantity*UnitCost) >= (SELECT 2*SUM(Quantity*UnitCost)\n",
    "                                      FROM ORDER_INCLUDE OI2, ORDER O2 \n",
    "                                      WHERE O1.OID = OI1.OID AND \n",
    "                                         Date>= 01/04/2023 AND Date <= 31/04/2023\n",
    "                                         AND  O2.SID = O1.SID)\n",
    ")\n",
    "SELECT Category, COUNT(DISTINCT SID) \n",
    "FROM TOY_BUILDING_SET T, ORDER_INCLUDE OI, ORDER O \n",
    "WHERE T.SID = OI.SID AND O.OID = OI.OID AND \n",
    "        SID IN Needed AND Date>= 01/05/2023 AND Date <= 31/05/2023 \n",
    "GROUP BY Category;"
   ]
  },
  {
   "cell_type": "markdown",
   "metadata": {
    "vscode": {
     "languageId": "sql"
    }
   },
   "source": [
    "## Simulation 3"
   ]
  },
  {
   "cell_type": "code",
   "execution_count": null,
   "metadata": {
    "vscode": {
     "languageId": "sql"
    }
   },
   "outputs": [],
   "source": [
    "WITH Needed AS(\n",
    "    SELECT CID, Title, MAX(SizeKB) AS MaxAudio\n",
    "    FROM MESSAGE M1, CHAT C1, USER U \n",
    "    WHERE M1.CID = C1.CID AND U.UID = C1.UIAdmin AND \n",
    "        C1.CreationDate >= 01/01/2023 AND C1.CreationDate < 01/01/2024 \n",
    "        AND U.BirthDate < 01/01/1990 AND M.Type = 'Audio' \n",
    "    GROUP BY CID, Title;\n",
    ")\n",
    "SELECT Title, MaxAudio\n",
    "FROM Needed\n",
    "WHERE CID NOT IN (SELECT CID\n",
    "                  FROM CHAT C, MESSAGE M \n",
    "                  WHERE C.CID = M.CID AND Type = 'Image');"
   ]
  },
  {
   "cell_type": "code",
   "execution_count": null,
   "metadata": {
    "vscode": {
     "languageId": "sql"
    }
   },
   "outputs": [],
   "source": [
    "WITH Needed AS(\n",
    "    SELECT UID\n",
    "    FROM USER U, CHAT C \n",
    "    WHERE U.UID = C.UIAdmin AND City = 'Milan' AND \n",
    "        CreationDate < 01/01/2023 AND CreationDate >= 01/01/2022\n",
    "    GROUP BY UID \n",
    "    HAVING COUNT(*)>=5;\n",
    ")\n",
    "SELECT Type, COUNT(*), SUM(SizeKB)\n",
    "FROM MESSAGE M\n",
    "WHERE  UIDSender IN Needed\n",
    "GROUP BY Type\n",
    "HAVING COUNT(DISTINCT UIDSender)>=10;"
   ]
  },
  {
   "cell_type": "code",
   "execution_count": null,
   "metadata": {
    "vscode": {
     "languageId": "sql"
    }
   },
   "outputs": [],
   "source": [
    "WITH Needed AS(\n",
    "    SELECT SubmitDate AS Date, CID, COUNT(*) AS NoMessages \n",
    "    FROM MESSAGE\n",
    "    GROUP BY SubmitDate, CID;\n",
    ")\n",
    "SELECT SubmitDate, Name, Surname, Title \n",
    "FROM USER U, CHAT C, MESSAGE M \n",
    "WHERE U.UID = C.UIAdmin AND M.CID = C.CID \n",
    "GROUP BY M.SubmitDate, CID, Name, Surname, Title\n",
    "HAVING COUNT(*) >= (SELECT AVG(NoMessages)\n",
    "                    FROM Needed\n",
    "                    WHERE Needed.Date = M.SubmitDate)"
   ]
  },
  {
   "cell_type": "markdown",
   "metadata": {
    "vscode": {
     "languageId": "sql"
    }
   },
   "source": [
    "## Simulation 4"
   ]
  },
  {
   "cell_type": "code",
   "execution_count": null,
   "metadata": {
    "vscode": {
     "languageId": "sql"
    }
   },
   "outputs": [],
   "source": [
    "WITH Need AS(\n",
    "    SELECT SID \n",
    "    FROM SONG S, RADIO_PROGRAMMING P \n",
    "    WHERE S.Language = 'Italian' AND S.SID = P.SID \n",
    "        AND StartTime <= '14:00' \n",
    ")\n",
    "SELECT Name, Network\n",
    "FROM WEBRADIO W, RADIO_PROGRAMMING RP, SONG S1\n",
    "WHERE RP.WID = W.WID AND S1.SID = RP.SID \n",
    "    S1.Language = 'Italian' AND SID NOT IN (SELECT SID FROM Needed)\n",
    "GROUP BY WID, Name, Network\n",
    "HAVING COUNT(DISTINCT SID) > 100"
   ]
  },
  {
   "cell_type": "code",
   "execution_count": null,
   "metadata": {
    "vscode": {
     "languageId": "sql"
    }
   },
   "outputs": [],
   "source": [
    "WITH Needed AS(\n",
    "    SELECT SID \n",
    "    FROM AUDIENCE A \n",
    "    WHERE Date >= 01/01/2020 AND Date < 01/01/2021\n",
    "    GROUP BY SID \n",
    "    HAVING COUNT(NoAudience) > 90000;\n",
    ")\n",
    "SELECT Title, COUNT(DISTINCT WID), MAX(Date)\n",
    "FROM SONG S, RADIO_PROGRAMMING P \n",
    "WHERE S.SID IN Needed AND S.SID = P.SID \n",
    "GROUP BY P.SID, Title;"
   ]
  },
  {
   "cell_type": "code",
   "execution_count": null,
   "metadata": {
    "vscode": {
     "languageId": "sql"
    }
   },
   "outputs": [],
   "source": [
    "WITH Needed AS(  \n",
    "    SELECT Province, City, SUM(NoAudience) CityNo\n",
    "    FROM AUDIENCE A, SONG S, Location L1\n",
    "    WHERE Date >= 01/01/2020 AND Date < 01/01/2021 AND S.MusicGenre = 'R&B'\n",
    "        AND S.SID = A.SID AND L1.City = A.City\n",
    "    GROUP BY Province, City;\n",
    ")\n",
    "SELECT Province, City \n",
    "FROM AUDIENCE A1, SONG S1, Location L\n",
    "WHERE Date >= 01/01/2020 AND Date < 01/01/2021 AND S1.MusicGenre = 'R&B'\n",
    "        AND S1.SID = A1.SID AND A1.City = L.City\n",
    "GROUP BY Province,City\n",
    "HAVING SUM(NoAudience) >= (SELECT AVG(CityNo)\n",
    "                           FROM Needed N\n",
    "                           WHERE N.Province = L.Province);"
   ]
  },
  {
   "cell_type": "code",
   "execution_count": null,
   "metadata": {
    "vscode": {
     "languageId": "sql"
    }
   },
   "outputs": [],
   "source": [
    "\n",
    "COURSE(CID, CourseName, Type, MaxNoStudents*)\n",
    "COURSE_TOPICS(CID, TopicName)\n",
    "COURSE_EDITION_OF_AVAILABLE(CID, StartDate, Duration, EndDate, PID)\n",
    "ONLINE_PLATFORM(PID, Platform_Name)\n",
    "STUDENT(ID, Name, Surname, Facebook*)\n",
    "UNIVERSITY_RESIDENCE(RID, Phone, Address)\n",
    "LIVES_IN(ID, RID, StartDate, EndDate*)\n",
    "ENROLLED(ID, RID, StartDate)\n",
    "\n",
    "ENROLLED(CID, StartDate) REFERENCES COURSE_EDITION_OF_AVAILABLE(CID, StartDate)\n",
    "LIVES_IN(RID) REFERENCES UNIVERSITY_RESIDENCE(RID)"
   ]
  },
  {
   "cell_type": "code",
   "execution_count": null,
   "metadata": {
    "vscode": {
     "languageId": "sql"
    }
   },
   "outputs": [],
   "source": [
    "-- consider the case of not present in license_purchased and notification\n",
    "\n",
    "CREATE TRIGGER Manage_purchases\n",
    "AFTER INSERT ON SOFTWARE_PURCHASE_REQUEST\n",
    "FOR EACH ROW \n",
    "DECLARE \n",
    "varComp VARCHAR(15);\n",
    "varSoft VARCHAR(15);\n",
    "cost NUMBER;\n",
    "noPurchased NUMBER;\n",
    "BEGIN\n",
    "SELECT IdC, IdSW INTO varComp, varSoft\n",
    "FROM LICENSES_PURCHASED\n",
    "WHERE IdC = :NEW.IdC AND IdSW = :NEW.IdSW;\n",
    "\n",
    "SELECT CostPerLicense INTO cost \n",
    "FROM SOFTWARE \n",
    "WHERE :NEW.IdSW = IdSW;\n",
    "\n",
    "IF (varComp IS NULL and varSoft IS NULL)THEN --- not yet entered\n",
    "\n",
    "INSERT INTO LICENSES_PURCHASED \n",
    "VALUES(varComp, varSoft, :NEW.NoRequestedLicenses);\n",
    "\n",
    "INSERT INTO SOFTWARE_PURCHASE_NOTIFICATION \n",
    "VALUES(:NEW.IdR,varComp, varSoft, :NEW.NoRequestedLicenses, \n",
    "        cost*(:NEW.NoRequestedLicenses), :NEW.NoRequestedLicenses);\n",
    "\n",
    "ELSE  --- exists entry\n",
    "SELECT MAX(NoPurchasedLicenses) INTO noPurchased\n",
    "FROM SOFTWARE_PURCHASE_NOTIFICATION\n",
    "WHERE IdC = :NEW.IdC AND IdSW = :NEW.IdSW;\n",
    "\n",
    "UPDATE LICENSE_PURCHASED\n",
    "SET NoPurchasedLicenses = NoPurchasedLicenses + :NEW.NoRequestedLicenses\n",
    "WHERE IdC = :NEW.IdC AND IdSW = :NEW.IdSW;\n",
    "INSERT INTO SOFTWARE_PURCHASE_NOTIFICATION \n",
    "VALUES(:NEW.IdR,varComp, varSoft, :NEW.NoRequestedLicenses, \n",
    "        cost*(:NEW.NoRequestedLicenses), noPurchased + :NEW.NoRequestedLicenses);\n",
    "END IF;\n",
    "END;"
   ]
  }
 ],
 "metadata": {
  "kernelspec": {
   "display_name": "base",
   "language": "python",
   "name": "python3"
  },
  "language_info": {
   "codemirror_mode": {
    "name": "ipython",
    "version": 3
   },
   "file_extension": ".py",
   "mimetype": "text/x-python",
   "name": "python",
   "nbconvert_exporter": "python",
   "pygments_lexer": "ipython3",
   "version": "3.12.3"
  }
 },
 "nbformat": 4,
 "nbformat_minor": 2
}
