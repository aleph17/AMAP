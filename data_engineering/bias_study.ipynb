{
 "cells": [
  {
   "cell_type": "code",
   "execution_count": null,
   "metadata": {},
   "outputs": [],
   "source": [
    "import cv2 as cv\n",
    "import numpy as np\n",
    "import os"
   ]
  },
  {
   "cell_type": "code",
   "execution_count": null,
   "metadata": {},
   "outputs": [],
   "source": [
    "mask_dir = '/home/muhammad-ali/working/base_data/cleaned'\n",
    "\n",
    "mask_list = os.listdir(mask_dir)\n",
    "mask_dirs = [os.path.join(mask_dir, x) for x in mask_list]\n",
    "\n",
    "distribution = np.array([0,0])\n",
    "for i in range(len(mask_dirs)):\n",
    "    mask = cv.imread(mask_dirs[i])\n",
    "    temp = np.bincount(np.array(mask).reshape(1,-1)[0])\n",
    "    if len(temp) == 2:\n",
    "        distribution += temp\n",
    "    else:\n",
    "        print('not 2 channels present')\n",
    "        break"
   ]
  },
  {
   "cell_type": "code",
   "execution_count": null,
   "metadata": {},
   "outputs": [
    {
     "name": "stdout",
     "output_type": "stream",
     "text": [
      "0s -- 88.52 percent\n",
      "1s -- 11.48 percent\n",
      "\n"
     ]
    }
   ],
   "source": [
    "zeros = distribution[0]/ distribution.sum()\n",
    "ones = distribution[1]/distribution.sum()\n",
    "print(f\"0s -- {round(zeros*100, 3)} percent\\n1s -- {round(ones*100,3)} percent\\n\")"
   ]
  },
  {
   "cell_type": "markdown",
   "metadata": {},
   "source": [
    "$$ bias = log_e(pos/neg)$$"
   ]
  },
  {
   "cell_type": "code",
   "execution_count": null,
   "metadata": {},
   "outputs": [
    {
     "name": "stdout",
     "output_type": "stream",
     "text": [
      "initial bias should be [-2.04259536]\n"
     ]
    }
   ],
   "source": [
    "initial_bias = np.log([ones/zeros])\n",
    "print(f\"initial bias should be {initial_bias}\")"
   ]
  },
  {
   "cell_type": "markdown",
   "metadata": {},
   "source": [
    "$$-plog(p)-(1-p)log(1-p)$$"
   ]
  },
  {
   "cell_type": "code",
   "execution_count": null,
   "metadata": {},
   "outputs": [
    {
     "name": "stdout",
     "output_type": "stream",
     "text": [
      "initial loss should be around 0.356\n"
     ]
    }
   ],
   "source": [
    "p = ones\n",
    "initial_loss = -p*np.log(p)- (1-p)*np.log(1-p)\n",
    "print(f\"initial loss should be around {round(initial_loss, 3)}\")"
   ]
  }
 ],
 "metadata": {
  "kernelspec": {
   "display_name": "msf",
   "language": "python",
   "name": "python3"
  },
  "language_info": {
   "codemirror_mode": {
    "name": "ipython",
    "version": 3
   },
   "file_extension": ".py",
   "mimetype": "text/x-python",
   "name": "python",
   "nbconvert_exporter": "python",
   "pygments_lexer": "ipython3",
   "version": "3.12.6"
  }
 },
 "nbformat": 4,
 "nbformat_minor": 2
}
