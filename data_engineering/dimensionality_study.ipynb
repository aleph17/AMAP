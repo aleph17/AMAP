{
 "cells": [
  {
   "cell_type": "markdown",
   "id": "88d2b343",
   "metadata": {},
   "source": [
    "## This notebook contains metadata about the dimensions of images.\n",
    "It is validated that masks and images have matching dimensions. Frequency of unique sizes of images is obtained. Further decision is made to pad images to have square sizes."
   ]
  },
  {
   "cell_type": "code",
   "execution_count": 21,
   "id": "fcfdf9db-68df-4605-8db4-49812bba4d7f",
   "metadata": {
    "collapsed": true,
    "jupyter": {
     "outputs_hidden": true
    }
   },
   "outputs": [],
   "source": [
    "from PIL import Image\n",
    "import numpy as np\n",
    "import pandas as pd\n",
    "import matplotlib.pyplot as plt\n",
    "import os"
   ]
  },
  {
   "cell_type": "code",
   "execution_count": 22,
   "id": "d72582e2-6d4a-42de-ae25-f2bf52a53cac",
   "metadata": {},
   "outputs": [
    {
     "name": "stdout",
     "output_type": "stream",
     "text": [
      "number of images:  976\n",
      "number of masks:  976\n"
     ]
    }
   ],
   "source": [
    "image_dir = '/home/muhammad-ali/working/clean_data'\n",
    "mask_dir = '/home/muhammad-ali/working/base_data/masks_01'\n",
    "\n",
    "img_list = sorted(list(os.listdir(image_dir)))\n",
    "mask_list = sorted(list(os.listdir(mask_dir)))\n",
    "\n",
    "img_dirs = [os.path.join(image_dir, x) for x in img_list]\n",
    "mask_dirs = [os.path.join(mask_dir, x)for x in mask_list]\n",
    "\n",
    "images = [Image.open(x) for x in img_dirs]\n",
    "masks = [Image.open(x) for x in mask_dirs]\n",
    "\n",
    "print('number of images: ',len(img_dirs))\n",
    "print('number of masks: ',len(mask_dirs))"
   ]
  },
  {
   "cell_type": "code",
   "execution_count": 23,
   "id": "82272261-d36a-4b14-9b60-6a30d3830155",
   "metadata": {},
   "outputs": [],
   "source": [
    "img_sizes = list(map(lambda x: x.size, images))\n",
    "img_sizes = np.array(img_sizes)\n",
    "img_nums = img_sizes.reshape(-1)\n",
    "img_sizes = pd.DataFrame(img_sizes, columns =['width', 'length'])\n",
    "\n",
    "mask_sizes = list(map(lambda x: x.size, masks))\n",
    "mask_sizes = np.array(mask_sizes)\n",
    "mask_nums = mask_sizes.reshape(-1)\n",
    "mask_sizes = pd.DataFrame(mask_sizes, columns =['width', 'length'])"
   ]
  },
  {
   "cell_type": "markdown",
   "id": "4cd12227",
   "metadata": {},
   "source": [
    "##### The dimensions are being checked because before running this notebook the images had not configured orientations"
   ]
  },
  {
   "cell_type": "code",
   "execution_count": 24,
   "id": "e6ed6097",
   "metadata": {},
   "outputs": [
    {
     "name": "stdout",
     "output_type": "stream",
     "text": [
      "It is [ True  True] that images and masks have the same width and length dimensions\n"
     ]
    }
   ],
   "source": [
    "a = np.array(img_sizes) == np.array(mask_sizes)\n",
    "print(f\"It is {sum(a) == (len(images), len(masks))} that images and masks have the same width and length dimensions\")"
   ]
  },
  {
   "cell_type": "code",
   "execution_count": 25,
   "id": "28ae5e49-10ca-46d5-9fea-df002eee6832",
   "metadata": {},
   "outputs": [
    {
     "name": "stdout",
     "output_type": "stream",
     "text": [
      "image rank - 3 with shape (4128, 3096, 3)\n",
      "mask rank - 2 with shape (4128, 3096)\n"
     ]
    }
   ],
   "source": [
    "x = np.random.randint(400)\n",
    "random_img = np.array(images[x])\n",
    "random_mask = np.array(masks[x])\n",
    "print('image rank -', random_img.ndim, 'with shape', random_img.shape)\n",
    "print('mask rank -', random_mask.ndim, 'with shape', random_mask.shape)"
   ]
  },
  {
   "cell_type": "code",
   "execution_count": 29,
   "id": "12f252b3-1c38-404e-972d-3611a562de15",
   "metadata": {},
   "outputs": [
    {
     "data": {
      "text/plain": [
       "<matplotlib.collections.PathCollection at 0x77fb80140560>"
      ]
     },
     "execution_count": 29,
     "metadata": {},
     "output_type": "execute_result"
    },
    {
     "data": {
      "image/png": "[encoded data removed]",
      "text/plain": [
       "<Figure size 500x500 with 1 Axes>"
      ]
     },
     "metadata": {},
     "output_type": "display_data"
    }
   ],
   "source": [
    "plt.figure(figsize=(5,5))\n",
    "plt.scatter(img_sizes['width'], img_sizes['length'])"
   ]
  },
  {
   "cell_type": "code",
   "execution_count": 47,
   "id": "7685cd57",
   "metadata": {},
   "outputs": [
    {
     "data": {
      "text/plain": [
       "12"
      ]
     },
     "execution_count": 47,
     "metadata": {},
     "output_type": "execute_result"
    }
   ],
   "source": [
    "dimension_values = np.array(img_sizes)\n",
    "uni_val, freq = np.unique(dimension_values, return_counts = True, axis = 0)\n",
    "len(uni_val)"
   ]
  },
  {
   "cell_type": "code",
   "execution_count": 48,
   "id": "abac1d16",
   "metadata": {},
   "outputs": [],
   "source": [
    "a = pd.DataFrame(uni_val, columns= ['width', 'length'])\n",
    "b = pd.DataFrame(freq, columns= ['frequency'])\n",
    "result = pd.concat([a,b], axis = 1)"
   ]
  },
  {
   "cell_type": "code",
   "execution_count": 49,
   "id": "aefce725",
   "metadata": {},
   "outputs": [
    {
     "data": {
      "text/html": [
       "<div>\n",
       "<style scoped>\n",
       "    .dataframe tbody tr th:only-of-type {\n",
       "        vertical-align: middle;\n",
       "    }\n",
       "\n",
       "    .dataframe tbody tr th {\n",
       "        vertical-align: top;\n",
       "    }\n",
       "\n",
       "    .dataframe thead th {\n",
       "        text-align: right;\n",
       "    }\n",
       "</style>\n",
       "<table border=\"1\" class=\"dataframe\">\n",
       "  <thead>\n",
       "    <tr style=\"text-align: right;\">\n",
       "      <th></th>\n",
       "      <th>width</th>\n",
       "      <th>length</th>\n",
       "      <th>frequency</th>\n",
       "    </tr>\n",
       "  </thead>\n",
       "  <tbody>\n",
       "    <tr>\n",
       "      <th>0</th>\n",
       "      <td>640</td>\n",
       "      <td>640</td>\n",
       "      <td>43</td>\n",
       "    </tr>\n",
       "    <tr>\n",
       "      <th>1</th>\n",
       "      <td>800</td>\n",
       "      <td>800</td>\n",
       "      <td>12</td>\n",
       "    </tr>\n",
       "    <tr>\n",
       "      <th>2</th>\n",
       "      <td>2048</td>\n",
       "      <td>2048</td>\n",
       "      <td>11</td>\n",
       "    </tr>\n",
       "    <tr>\n",
       "      <th>3</th>\n",
       "      <td>2686</td>\n",
       "      <td>2748</td>\n",
       "      <td>3</td>\n",
       "    </tr>\n",
       "    <tr>\n",
       "      <th>4</th>\n",
       "      <td>2713</td>\n",
       "      <td>2748</td>\n",
       "      <td>2</td>\n",
       "    </tr>\n",
       "    <tr>\n",
       "      <th>5</th>\n",
       "      <td>2829</td>\n",
       "      <td>2851</td>\n",
       "      <td>2</td>\n",
       "    </tr>\n",
       "    <tr>\n",
       "      <th>6</th>\n",
       "      <td>2864</td>\n",
       "      <td>2844</td>\n",
       "      <td>3</td>\n",
       "    </tr>\n",
       "    <tr>\n",
       "      <th>7</th>\n",
       "      <td>2976</td>\n",
       "      <td>3968</td>\n",
       "      <td>301</td>\n",
       "    </tr>\n",
       "    <tr>\n",
       "      <th>8</th>\n",
       "      <td>3000</td>\n",
       "      <td>4000</td>\n",
       "      <td>10</td>\n",
       "    </tr>\n",
       "    <tr>\n",
       "      <th>9</th>\n",
       "      <td>3024</td>\n",
       "      <td>4032</td>\n",
       "      <td>3</td>\n",
       "    </tr>\n",
       "    <tr>\n",
       "      <th>10</th>\n",
       "      <td>3096</td>\n",
       "      <td>4128</td>\n",
       "      <td>534</td>\n",
       "    </tr>\n",
       "    <tr>\n",
       "      <th>11</th>\n",
       "      <td>4128</td>\n",
       "      <td>3096</td>\n",
       "      <td>52</td>\n",
       "    </tr>\n",
       "  </tbody>\n",
       "</table>\n",
       "</div>"
      ],
      "text/plain": [
       "    width  length  frequency\n",
       "0     640     640         43\n",
       "1     800     800         12\n",
       "2    2048    2048         11\n",
       "3    2686    2748          3\n",
       "4    2713    2748          2\n",
       "5    2829    2851          2\n",
       "6    2864    2844          3\n",
       "7    2976    3968        301\n",
       "8    3000    4000         10\n",
       "9    3024    4032          3\n",
       "10   3096    4128        534\n",
       "11   4128    3096         52"
      ]
     },
     "execution_count": 49,
     "metadata": {},
     "output_type": "execute_result"
    }
   ],
   "source": [
    "result"
   ]
  }
 ],
 "metadata": {
  "kernelspec": {
   "display_name": "msf",
   "language": "python",
   "name": "python3"
  },
  "language_info": {
   "codemirror_mode": {
    "name": "ipython",
    "version": 3
   },
   "file_extension": ".py",
   "mimetype": "text/x-python",
   "name": "python",
   "nbconvert_exporter": "python",
   "pygments_lexer": "ipython3",
   "version": "3.12.6"
  }
 },
 "nbformat": 4,
 "nbformat_minor": 5
}
